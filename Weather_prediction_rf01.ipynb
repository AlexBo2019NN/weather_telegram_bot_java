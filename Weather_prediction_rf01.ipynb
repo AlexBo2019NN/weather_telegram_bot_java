{
  "nbformat": 4,
  "nbformat_minor": 0,
  "metadata": {
    "colab": {
      "name": "Weather_prediction_rf01.ipynb",
      "provenance": [],
      "collapsed_sections": [],
      "machine_shape": "hm"
    },
    "kernelspec": {
      "display_name": "Python 3",
      "language": "python",
      "name": "python3"
    },
    "language_info": {
      "codemirror_mode": {
        "name": "ipython",
        "version": 3
      },
      "file_extension": ".py",
      "mimetype": "text/x-python",
      "name": "python",
      "nbconvert_exporter": "python",
      "pygments_lexer": "ipython3",
      "version": "3.7.3"
    },
    "toc": {
      "base_numbering": 1,
      "nav_menu": {},
      "number_sections": true,
      "sideBar": true,
      "skip_h1_title": false,
      "title_cell": "Table of Contents",
      "title_sidebar": "Contents",
      "toc_cell": false,
      "toc_position": {},
      "toc_section_display": true,
      "toc_window_display": false
    }
  },
  "cells": [
    {
      "cell_type": "markdown",
      "metadata": {
        "id": "nTNcAt4rAk4j"
      },
      "source": [
        "Project weather predict dit4bears.hack 14-15.11.2020 \n",
        "made by Alex Bocharov skype bam271074\n",
        "\n"
      ]
    },
    {
      "cell_type": "code",
      "metadata": {
        "id": "crv1ExroAiIf"
      },
      "source": [
        "import pandas as pd  #for work with dataframes\n",
        "import numpy as np\n",
        "import matplotlib.pyplot as plt  # lib for plots\n",
        "from sklearn.model_selection import train_test_split\n",
        "from sklearn.metrics import f1_score  #metric to eval classification\n",
        "from sklearn.ensemble import RandomForestClassifier\n",
        "\n",
        "RS=42   #we will fix random state\n",
        "\n"
      ],
      "execution_count": 68,
      "outputs": []
    },
    {
      "cell_type": "code",
      "metadata": {
        "ExecuteTime": {
          "end_time": "2019-10-14T03:11:55.342071Z",
          "start_time": "2019-10-14T03:11:55.314034Z"
        },
        "id": "FNMWhv8k3Lgy",
        "outputId": "d8db0308-da91-4ab4-e440-42eb542aa40b",
        "colab": {
          "resources": {
            "http://localhost:8080/nbextensions/google.colab/files.js": {
              "data": "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",
              "ok": true,
              "headers": [
                [
                  "content-type",
                  "application/javascript"
                ]
              ],
              "status": 200,
              "status_text": ""
            }
          },
          "base_uri": "https://localhost:8080/",
          "height": 91
        }
      },
      "source": [
        "#let s upload files\n",
        "from google.colab import files\n",
        "uploaded = files.upload()\n",
        "for fn in uploaded.keys():\n",
        "  print ('User uploaded file {name} with length {length} bytes'.format(name=fn, \\\n",
        "                                                                       length=len(uploaded[fn])))"
      ],
      "execution_count": 3,
      "outputs": [
        {
          "output_type": "display_data",
          "data": {
            "text/html": [
              "\n",
              "     <input type=\"file\" id=\"files-a5b52913-6a6e-4abf-8a8e-60878ff8993e\" name=\"files[]\" multiple disabled\n",
              "        style=\"border:none\" />\n",
              "     <output id=\"result-a5b52913-6a6e-4abf-8a8e-60878ff8993e\">\n",
              "      Upload widget is only available when the cell has been executed in the\n",
              "      current browser session. Please rerun this cell to enable.\n",
              "      </output>\n",
              "      <script src=\"/nbextensions/google.colab/files.js\"></script> "
            ],
            "text/plain": [
              "<IPython.core.display.HTML object>"
            ]
          },
          "metadata": {
            "tags": []
          }
        },
        {
          "output_type": "stream",
          "text": [
            "Saving 2803RCMH04.xlsx to 2803RCMH04.xlsx\n",
            "User uploaded file 2803RCMH04.xlsx with length 1988785 bytes\n"
          ],
          "name": "stdout"
        }
      ]
    },
    {
      "cell_type": "code",
      "metadata": {
        "ExecuteTime": {
          "end_time": "2019-10-14T03:11:55.877105Z",
          "start_time": "2019-10-14T03:11:55.368186Z"
        },
        "id": "vp0JMum43LhB",
        "outputId": "ef6b23e1-bfc0-46e1-9a00-dd8e224fd071",
        "colab": {
          "base_uri": "https://localhost:8080/",
          "height": 366
        }
      },
      "source": [
        "#let s build dataframe with our dataset\n",
        "df_data = pd.read_excel('2803RCMH04.xlsx')\n",
        "df_data.head()"
      ],
      "execution_count": 69,
      "outputs": [
        {
          "output_type": "execute_result",
          "data": {
            "text/html": [
              "<div>\n",
              "<style scoped>\n",
              "    .dataframe tbody tr th:only-of-type {\n",
              "        vertical-align: middle;\n",
              "    }\n",
              "\n",
              "    .dataframe tbody tr th {\n",
              "        vertical-align: top;\n",
              "    }\n",
              "\n",
              "    .dataframe thead th {\n",
              "        text-align: right;\n",
              "    }\n",
              "</style>\n",
              "<table border=\"1\" class=\"dataframe\">\n",
              "  <thead>\n",
              "    <tr style=\"text-align: right;\">\n",
              "      <th></th>\n",
              "      <th>Date</th>\n",
              "      <th>Time(+02:00)</th>\n",
              "      <th>S1</th>\n",
              "      <th>S2</th>\n",
              "      <th>S3</th>\n",
              "      <th>Friction</th>\n",
              "      <th>State</th>\n",
              "      <th>Ta</th>\n",
              "      <th>S7</th>\n",
              "      <th>Tsurf</th>\n",
              "      <th>S9</th>\n",
              "      <th>S10</th>\n",
              "      <th>S11</th>\n",
              "      <th>Water</th>\n",
              "      <th>Speed</th>\n",
              "      <th>Direction</th>\n",
              "      <th>Latitude</th>\n",
              "      <th>Longitude</th>\n",
              "      <th>Height</th>\n",
              "      <th>Accuracy</th>\n",
              "      <th>Tdew</th>\n",
              "      <th>Friction2</th>\n",
              "      <th>Distance</th>\n",
              "      <th>Serial(RCM411 V 2.59 2016-09-29 - RCM Mobile v1.1.2)</th>\n",
              "      <th>TaOBD</th>\n",
              "      <th>AirFlowRateOBD</th>\n",
              "      <th>LambdaOBD</th>\n",
              "    </tr>\n",
              "  </thead>\n",
              "  <tbody>\n",
              "    <tr>\n",
              "      <th>0</th>\n",
              "      <td>2018-03-28</td>\n",
              "      <td>09:10:21</td>\n",
              "      <td>68.32</td>\n",
              "      <td>58.84</td>\n",
              "      <td>38.828</td>\n",
              "      <td>0.38</td>\n",
              "      <td>6</td>\n",
              "      <td>-8.3</td>\n",
              "      <td>270.9</td>\n",
              "      <td>-9.06</td>\n",
              "      <td>1049.8</td>\n",
              "      <td>680.7</td>\n",
              "      <td>1.678</td>\n",
              "      <td>0.0</td>\n",
              "      <td>0.0</td>\n",
              "      <td>NaN</td>\n",
              "      <td>69.473631</td>\n",
              "      <td>25.509317</td>\n",
              "      <td>198</td>\n",
              "      <td>6.0</td>\n",
              "      <td>NaN</td>\n",
              "      <td>NaN</td>\n",
              "      <td>NaN</td>\n",
              "      <td>H04</td>\n",
              "      <td>NaN</td>\n",
              "      <td>NaN</td>\n",
              "      <td>NaN</td>\n",
              "    </tr>\n",
              "    <tr>\n",
              "      <th>1</th>\n",
              "      <td>2018-03-28</td>\n",
              "      <td>09:10:22</td>\n",
              "      <td>68.60</td>\n",
              "      <td>59.22</td>\n",
              "      <td>39.098</td>\n",
              "      <td>0.37</td>\n",
              "      <td>6</td>\n",
              "      <td>-8.3</td>\n",
              "      <td>271.0</td>\n",
              "      <td>-9.24</td>\n",
              "      <td>1051.8</td>\n",
              "      <td>682.1</td>\n",
              "      <td>1.678</td>\n",
              "      <td>0.0</td>\n",
              "      <td>0.0</td>\n",
              "      <td>NaN</td>\n",
              "      <td>69.473630</td>\n",
              "      <td>25.509304</td>\n",
              "      <td>197</td>\n",
              "      <td>6.0</td>\n",
              "      <td>NaN</td>\n",
              "      <td>NaN</td>\n",
              "      <td>NaN</td>\n",
              "      <td>H04</td>\n",
              "      <td>NaN</td>\n",
              "      <td>NaN</td>\n",
              "      <td>NaN</td>\n",
              "    </tr>\n",
              "    <tr>\n",
              "      <th>2</th>\n",
              "      <td>2018-03-28</td>\n",
              "      <td>09:10:23</td>\n",
              "      <td>68.11</td>\n",
              "      <td>58.73</td>\n",
              "      <td>38.732</td>\n",
              "      <td>0.37</td>\n",
              "      <td>6</td>\n",
              "      <td>-8.3</td>\n",
              "      <td>270.9</td>\n",
              "      <td>-9.16</td>\n",
              "      <td>1047.1</td>\n",
              "      <td>679.4</td>\n",
              "      <td>1.678</td>\n",
              "      <td>0.0</td>\n",
              "      <td>0.0</td>\n",
              "      <td>NaN</td>\n",
              "      <td>69.473628</td>\n",
              "      <td>25.509296</td>\n",
              "      <td>196</td>\n",
              "      <td>6.0</td>\n",
              "      <td>NaN</td>\n",
              "      <td>NaN</td>\n",
              "      <td>NaN</td>\n",
              "      <td>H04</td>\n",
              "      <td>NaN</td>\n",
              "      <td>NaN</td>\n",
              "      <td>NaN</td>\n",
              "    </tr>\n",
              "    <tr>\n",
              "      <th>3</th>\n",
              "      <td>2018-03-28</td>\n",
              "      <td>09:10:24</td>\n",
              "      <td>67.98</td>\n",
              "      <td>58.57</td>\n",
              "      <td>38.620</td>\n",
              "      <td>0.37</td>\n",
              "      <td>6</td>\n",
              "      <td>-8.3</td>\n",
              "      <td>271.0</td>\n",
              "      <td>-9.01</td>\n",
              "      <td>1046.2</td>\n",
              "      <td>679.0</td>\n",
              "      <td>1.678</td>\n",
              "      <td>0.0</td>\n",
              "      <td>0.0</td>\n",
              "      <td>NaN</td>\n",
              "      <td>69.473625</td>\n",
              "      <td>25.509292</td>\n",
              "      <td>196</td>\n",
              "      <td>4.0</td>\n",
              "      <td>NaN</td>\n",
              "      <td>NaN</td>\n",
              "      <td>NaN</td>\n",
              "      <td>H04</td>\n",
              "      <td>NaN</td>\n",
              "      <td>NaN</td>\n",
              "      <td>NaN</td>\n",
              "    </tr>\n",
              "    <tr>\n",
              "      <th>4</th>\n",
              "      <td>2018-03-28</td>\n",
              "      <td>09:10:25</td>\n",
              "      <td>67.88</td>\n",
              "      <td>58.48</td>\n",
              "      <td>38.559</td>\n",
              "      <td>0.37</td>\n",
              "      <td>6</td>\n",
              "      <td>-8.3</td>\n",
              "      <td>271.1</td>\n",
              "      <td>-8.93</td>\n",
              "      <td>1045.1</td>\n",
              "      <td>678.6</td>\n",
              "      <td>1.678</td>\n",
              "      <td>0.0</td>\n",
              "      <td>0.0</td>\n",
              "      <td>NaN</td>\n",
              "      <td>69.473620</td>\n",
              "      <td>25.509283</td>\n",
              "      <td>196</td>\n",
              "      <td>4.0</td>\n",
              "      <td>NaN</td>\n",
              "      <td>NaN</td>\n",
              "      <td>NaN</td>\n",
              "      <td>H04</td>\n",
              "      <td>NaN</td>\n",
              "      <td>NaN</td>\n",
              "      <td>NaN</td>\n",
              "    </tr>\n",
              "  </tbody>\n",
              "</table>\n",
              "</div>"
            ],
            "text/plain": [
              "        Date Time(+02:00)     S1  ... TaOBD  AirFlowRateOBD  LambdaOBD\n",
              "0 2018-03-28     09:10:21  68.32  ...   NaN             NaN        NaN\n",
              "1 2018-03-28     09:10:22  68.60  ...   NaN             NaN        NaN\n",
              "2 2018-03-28     09:10:23  68.11  ...   NaN             NaN        NaN\n",
              "3 2018-03-28     09:10:24  67.98  ...   NaN             NaN        NaN\n",
              "4 2018-03-28     09:10:25  67.88  ...   NaN             NaN        NaN\n",
              "\n",
              "[5 rows x 27 columns]"
            ]
          },
          "metadata": {
            "tags": []
          },
          "execution_count": 69
        }
      ]
    },
    {
      "cell_type": "code",
      "metadata": {
        "id": "aUHMJA23EiAJ",
        "outputId": "6c87069f-cfed-4d6a-fb05-e779735baaa4",
        "colab": {
          "base_uri": "https://localhost:8080/"
        }
      },
      "source": [
        "df_data.shape"
      ],
      "execution_count": 70,
      "outputs": [
        {
          "output_type": "execute_result",
          "data": {
            "text/plain": [
              "(14060, 27)"
            ]
          },
          "metadata": {
            "tags": []
          },
          "execution_count": 70
        }
      ]
    },
    {
      "cell_type": "code",
      "metadata": {
        "id": "T7oD57GxJOgj",
        "outputId": "3d3d306e-c9da-4961-e5f1-452049b4761e",
        "colab": {
          "base_uri": "https://localhost:8080/"
        }
      },
      "source": [
        "df_data.isna"
      ],
      "execution_count": 71,
      "outputs": [
        {
          "output_type": "execute_result",
          "data": {
            "text/plain": [
              "<bound method DataFrame.isna of             Date Time(+02:00)     S1  ... TaOBD  AirFlowRateOBD  LambdaOBD\n",
              "0     2018-03-28     09:10:21  68.32  ...   NaN             NaN        NaN\n",
              "1     2018-03-28     09:10:22  68.60  ...   NaN             NaN        NaN\n",
              "2     2018-03-28     09:10:23  68.11  ...   NaN             NaN        NaN\n",
              "3     2018-03-28     09:10:24  67.98  ...   NaN             NaN        NaN\n",
              "4     2018-03-28     09:10:25  67.88  ...   NaN             NaN        NaN\n",
              "...          ...          ...    ...  ...   ...             ...        ...\n",
              "14055 2018-03-28     15:14:38  33.64  ...   NaN             NaN        NaN\n",
              "14056 2018-03-28     15:14:39  33.71  ...   NaN             NaN        NaN\n",
              "14057 2018-03-28     15:14:40  33.61  ...   NaN             NaN        NaN\n",
              "14058 2018-03-28     15:14:41  33.69  ...   NaN             NaN        NaN\n",
              "14059 2018-03-28     15:14:42  33.68  ...   NaN             NaN        NaN\n",
              "\n",
              "[14060 rows x 27 columns]>"
            ]
          },
          "metadata": {
            "tags": []
          },
          "execution_count": 71
        }
      ]
    },
    {
      "cell_type": "code",
      "metadata": {
        "id": "-ZciiNjJJxEU",
        "outputId": "4456d143-6aa4-4aab-d70f-584e78467983",
        "colab": {
          "base_uri": "https://localhost:8080/"
        }
      },
      "source": [
        "df_data.isnull().sum()"
      ],
      "execution_count": 72,
      "outputs": [
        {
          "output_type": "execute_result",
          "data": {
            "text/plain": [
              "Date                                                        0\n",
              "Time(+02:00)                                                0\n",
              "S1                                                          0\n",
              "S2                                                          0\n",
              "S3                                                          0\n",
              "Friction                                                    0\n",
              "State                                                       0\n",
              "Ta                                                          0\n",
              "S7                                                          0\n",
              "Tsurf                                                       0\n",
              "S9                                                          0\n",
              "S10                                                         0\n",
              "S11                                                         0\n",
              "Water                                                       0\n",
              "Speed                                                       0\n",
              "Direction                                                 662\n",
              "Latitude                                                    0\n",
              "Longitude                                                   0\n",
              "Height                                                      0\n",
              "Accuracy                                                    0\n",
              "Tdew                                                    14060\n",
              "Friction2                                               14060\n",
              "Distance                                                  663\n",
              "Serial(RCM411 V 2.59 2016-09-29 - RCM Mobile v1.1.2)        0\n",
              "TaOBD                                                   14060\n",
              "AirFlowRateOBD                                          14060\n",
              "LambdaOBD                                               14060\n",
              "dtype: int64"
            ]
          },
          "metadata": {
            "tags": []
          },
          "execution_count": 72
        }
      ]
    },
    {
      "cell_type": "code",
      "metadata": {
        "id": "plkpq8wnJ20A"
      },
      "source": [
        "df_data.fillna(0,inplace=True)"
      ],
      "execution_count": 73,
      "outputs": []
    },
    {
      "cell_type": "code",
      "metadata": {
        "id": "cFg1cX3REiAj",
        "outputId": "d5cde9b9-c589-4db1-daac-15ef91975393",
        "colab": {
          "base_uri": "https://localhost:8080/",
          "height": 634
        }
      },
      "source": [
        "df_data.describe().T"
      ],
      "execution_count": 74,
      "outputs": [
        {
          "output_type": "execute_result",
          "data": {
            "text/html": [
              "<div>\n",
              "<style scoped>\n",
              "    .dataframe tbody tr th:only-of-type {\n",
              "        vertical-align: middle;\n",
              "    }\n",
              "\n",
              "    .dataframe tbody tr th {\n",
              "        vertical-align: top;\n",
              "    }\n",
              "\n",
              "    .dataframe thead th {\n",
              "        text-align: right;\n",
              "    }\n",
              "</style>\n",
              "<table border=\"1\" class=\"dataframe\">\n",
              "  <thead>\n",
              "    <tr style=\"text-align: right;\">\n",
              "      <th></th>\n",
              "      <th>count</th>\n",
              "      <th>mean</th>\n",
              "      <th>std</th>\n",
              "      <th>min</th>\n",
              "      <th>25%</th>\n",
              "      <th>50%</th>\n",
              "      <th>75%</th>\n",
              "      <th>max</th>\n",
              "    </tr>\n",
              "  </thead>\n",
              "  <tbody>\n",
              "    <tr>\n",
              "      <th>S3</th>\n",
              "      <td>14060.0</td>\n",
              "      <td>21.220037</td>\n",
              "      <td>12.489854</td>\n",
              "      <td>-2.129000</td>\n",
              "      <td>12.479750</td>\n",
              "      <td>21.650000</td>\n",
              "      <td>29.475500</td>\n",
              "      <td>84.446000</td>\n",
              "    </tr>\n",
              "    <tr>\n",
              "      <th>Friction</th>\n",
              "      <td>14060.0</td>\n",
              "      <td>0.403897</td>\n",
              "      <td>0.127406</td>\n",
              "      <td>0.210000</td>\n",
              "      <td>0.330000</td>\n",
              "      <td>0.380000</td>\n",
              "      <td>0.420000</td>\n",
              "      <td>0.810000</td>\n",
              "    </tr>\n",
              "    <tr>\n",
              "      <th>State</th>\n",
              "      <td>14060.0</td>\n",
              "      <td>5.409033</td>\n",
              "      <td>1.396465</td>\n",
              "      <td>1.000000</td>\n",
              "      <td>6.000000</td>\n",
              "      <td>6.000000</td>\n",
              "      <td>6.000000</td>\n",
              "      <td>6.000000</td>\n",
              "    </tr>\n",
              "    <tr>\n",
              "      <th>S7</th>\n",
              "      <td>14060.0</td>\n",
              "      <td>408.783378</td>\n",
              "      <td>107.435150</td>\n",
              "      <td>261.900000</td>\n",
              "      <td>335.175000</td>\n",
              "      <td>389.900000</td>\n",
              "      <td>452.200000</td>\n",
              "      <td>1180.400000</td>\n",
              "    </tr>\n",
              "    <tr>\n",
              "      <th>Tsurf</th>\n",
              "      <td>14060.0</td>\n",
              "      <td>-4.795160</td>\n",
              "      <td>2.616267</td>\n",
              "      <td>-10.650000</td>\n",
              "      <td>-6.800000</td>\n",
              "      <td>-4.680000</td>\n",
              "      <td>-2.940000</td>\n",
              "      <td>0.730000</td>\n",
              "    </tr>\n",
              "    <tr>\n",
              "      <th>S9</th>\n",
              "      <td>14060.0</td>\n",
              "      <td>939.299566</td>\n",
              "      <td>148.933136</td>\n",
              "      <td>67.000000</td>\n",
              "      <td>904.975000</td>\n",
              "      <td>1016.500000</td>\n",
              "      <td>1029.800000</td>\n",
              "      <td>1051.800000</td>\n",
              "    </tr>\n",
              "    <tr>\n",
              "      <th>S10</th>\n",
              "      <td>14060.0</td>\n",
              "      <td>651.416209</td>\n",
              "      <td>54.671709</td>\n",
              "      <td>56.200000</td>\n",
              "      <td>658.200000</td>\n",
              "      <td>662.000000</td>\n",
              "      <td>669.600000</td>\n",
              "      <td>691.700000</td>\n",
              "    </tr>\n",
              "    <tr>\n",
              "      <th>S11</th>\n",
              "      <td>14060.0</td>\n",
              "      <td>1.678089</td>\n",
              "      <td>0.000404</td>\n",
              "      <td>1.678000</td>\n",
              "      <td>1.678000</td>\n",
              "      <td>1.678000</td>\n",
              "      <td>1.678000</td>\n",
              "      <td>1.680000</td>\n",
              "    </tr>\n",
              "    <tr>\n",
              "      <th>Water</th>\n",
              "      <td>14060.0</td>\n",
              "      <td>0.000963</td>\n",
              "      <td>0.011372</td>\n",
              "      <td>0.000000</td>\n",
              "      <td>0.000000</td>\n",
              "      <td>0.000000</td>\n",
              "      <td>0.000000</td>\n",
              "      <td>0.353000</td>\n",
              "    </tr>\n",
              "    <tr>\n",
              "      <th>Speed</th>\n",
              "      <td>14060.0</td>\n",
              "      <td>62.139260</td>\n",
              "      <td>27.424201</td>\n",
              "      <td>0.000000</td>\n",
              "      <td>59.000000</td>\n",
              "      <td>73.900000</td>\n",
              "      <td>79.100000</td>\n",
              "      <td>90.800000</td>\n",
              "    </tr>\n",
              "    <tr>\n",
              "      <th>Latitude</th>\n",
              "      <td>14060.0</td>\n",
              "      <td>69.899855</td>\n",
              "      <td>0.242330</td>\n",
              "      <td>69.438563</td>\n",
              "      <td>69.712952</td>\n",
              "      <td>69.959518</td>\n",
              "      <td>70.090198</td>\n",
              "      <td>70.181814</td>\n",
              "    </tr>\n",
              "    <tr>\n",
              "      <th>Longitude</th>\n",
              "      <td>14060.0</td>\n",
              "      <td>27.279575</td>\n",
              "      <td>1.301399</td>\n",
              "      <td>25.502993</td>\n",
              "      <td>25.970284</td>\n",
              "      <td>27.148494</td>\n",
              "      <td>28.238603</td>\n",
              "      <td>29.754133</td>\n",
              "    </tr>\n",
              "    <tr>\n",
              "      <th>Height</th>\n",
              "      <td>14060.0</td>\n",
              "      <td>107.458890</td>\n",
              "      <td>52.146262</td>\n",
              "      <td>27.000000</td>\n",
              "      <td>52.000000</td>\n",
              "      <td>110.000000</td>\n",
              "      <td>155.000000</td>\n",
              "      <td>198.000000</td>\n",
              "    </tr>\n",
              "    <tr>\n",
              "      <th>Accuracy</th>\n",
              "      <td>14060.0</td>\n",
              "      <td>4.199431</td>\n",
              "      <td>0.904926</td>\n",
              "      <td>2.000000</td>\n",
              "      <td>4.000000</td>\n",
              "      <td>4.000000</td>\n",
              "      <td>4.000000</td>\n",
              "      <td>12.000000</td>\n",
              "    </tr>\n",
              "    <tr>\n",
              "      <th>Tdew</th>\n",
              "      <td>14060.0</td>\n",
              "      <td>0.000000</td>\n",
              "      <td>0.000000</td>\n",
              "      <td>0.000000</td>\n",
              "      <td>0.000000</td>\n",
              "      <td>0.000000</td>\n",
              "      <td>0.000000</td>\n",
              "      <td>0.000000</td>\n",
              "    </tr>\n",
              "    <tr>\n",
              "      <th>Friction2</th>\n",
              "      <td>14060.0</td>\n",
              "      <td>0.000000</td>\n",
              "      <td>0.000000</td>\n",
              "      <td>0.000000</td>\n",
              "      <td>0.000000</td>\n",
              "      <td>0.000000</td>\n",
              "      <td>0.000000</td>\n",
              "      <td>0.000000</td>\n",
              "    </tr>\n",
              "    <tr>\n",
              "      <th>Distance</th>\n",
              "      <td>14060.0</td>\n",
              "      <td>58588.495875</td>\n",
              "      <td>49235.791144</td>\n",
              "      <td>0.000000</td>\n",
              "      <td>15302.000000</td>\n",
              "      <td>47679.000000</td>\n",
              "      <td>94925.500000</td>\n",
              "      <td>157009.000000</td>\n",
              "    </tr>\n",
              "    <tr>\n",
              "      <th>TaOBD</th>\n",
              "      <td>14060.0</td>\n",
              "      <td>0.000000</td>\n",
              "      <td>0.000000</td>\n",
              "      <td>0.000000</td>\n",
              "      <td>0.000000</td>\n",
              "      <td>0.000000</td>\n",
              "      <td>0.000000</td>\n",
              "      <td>0.000000</td>\n",
              "    </tr>\n",
              "    <tr>\n",
              "      <th>AirFlowRateOBD</th>\n",
              "      <td>14060.0</td>\n",
              "      <td>0.000000</td>\n",
              "      <td>0.000000</td>\n",
              "      <td>0.000000</td>\n",
              "      <td>0.000000</td>\n",
              "      <td>0.000000</td>\n",
              "      <td>0.000000</td>\n",
              "      <td>0.000000</td>\n",
              "    </tr>\n",
              "    <tr>\n",
              "      <th>LambdaOBD</th>\n",
              "      <td>14060.0</td>\n",
              "      <td>0.000000</td>\n",
              "      <td>0.000000</td>\n",
              "      <td>0.000000</td>\n",
              "      <td>0.000000</td>\n",
              "      <td>0.000000</td>\n",
              "      <td>0.000000</td>\n",
              "      <td>0.000000</td>\n",
              "    </tr>\n",
              "  </tbody>\n",
              "</table>\n",
              "</div>"
            ],
            "text/plain": [
              "                  count          mean  ...           75%            max\n",
              "S3              14060.0     21.220037  ...     29.475500      84.446000\n",
              "Friction        14060.0      0.403897  ...      0.420000       0.810000\n",
              "State           14060.0      5.409033  ...      6.000000       6.000000\n",
              "S7              14060.0    408.783378  ...    452.200000    1180.400000\n",
              "Tsurf           14060.0     -4.795160  ...     -2.940000       0.730000\n",
              "S9              14060.0    939.299566  ...   1029.800000    1051.800000\n",
              "S10             14060.0    651.416209  ...    669.600000     691.700000\n",
              "S11             14060.0      1.678089  ...      1.678000       1.680000\n",
              "Water           14060.0      0.000963  ...      0.000000       0.353000\n",
              "Speed           14060.0     62.139260  ...     79.100000      90.800000\n",
              "Latitude        14060.0     69.899855  ...     70.090198      70.181814\n",
              "Longitude       14060.0     27.279575  ...     28.238603      29.754133\n",
              "Height          14060.0    107.458890  ...    155.000000     198.000000\n",
              "Accuracy        14060.0      4.199431  ...      4.000000      12.000000\n",
              "Tdew            14060.0      0.000000  ...      0.000000       0.000000\n",
              "Friction2       14060.0      0.000000  ...      0.000000       0.000000\n",
              "Distance        14060.0  58588.495875  ...  94925.500000  157009.000000\n",
              "TaOBD           14060.0      0.000000  ...      0.000000       0.000000\n",
              "AirFlowRateOBD  14060.0      0.000000  ...      0.000000       0.000000\n",
              "LambdaOBD       14060.0      0.000000  ...      0.000000       0.000000\n",
              "\n",
              "[20 rows x 8 columns]"
            ]
          },
          "metadata": {
            "tags": []
          },
          "execution_count": 74
        }
      ]
    },
    {
      "cell_type": "code",
      "metadata": {
        "id": "Q2dAC3StEiA4",
        "outputId": "a1dbca5d-fd1d-4a89-d5c1-6e43a4e44c61",
        "colab": {
          "base_uri": "https://localhost:8080/"
        }
      },
      "source": [
        "df_data['State'].value_counts()"
      ],
      "execution_count": 75,
      "outputs": [
        {
          "output_type": "execute_result",
          "data": {
            "text/plain": [
              "6    10578\n",
              "5     2258\n",
              "1     1186\n",
              "2       21\n",
              "4       14\n",
              "3        3\n",
              "Name: State, dtype: int64"
            ]
          },
          "metadata": {
            "tags": []
          },
          "execution_count": 75
        }
      ]
    },
    {
      "cell_type": "code",
      "metadata": {
        "ExecuteTime": {
          "end_time": "2019-10-14T03:11:55.896326Z",
          "start_time": "2019-10-14T03:11:55.885658Z"
        },
        "id": "YPb97mCU3LhI",
        "outputId": "bbd74dcb-b38f-45f8-8acb-b37d5148bff7",
        "colab": {
          "base_uri": "https://localhost:8080/",
          "height": 332
        }
      },
      "source": [
        "#let s build plot with oil prices\n",
        "df_data['Water'].plot(ax=plt.gca(), label='Water')\n",
        "plt.legend(loc=0)\n",
        "plt.ylabel('W')\n",
        "plt.tight_layout()\n",
        "plt.title('Water', fontsize=14)"
      ],
      "execution_count": 76,
      "outputs": [
        {
          "output_type": "execute_result",
          "data": {
            "text/plain": [
              "Text(0.5, 1.0, 'Water')"
            ]
          },
          "metadata": {
            "tags": []
          },
          "execution_count": 76
        },
        {
          "output_type": "display_data",
          "data": {
            "image/png": "[encoded data removed]",
            "text/plain": [
              "<Figure size 432x288 with 1 Axes>"
            ]
          },
          "metadata": {
            "tags": [],
            "needs_background": "light"
          }
        }
      ]
    },
    {
      "cell_type": "markdown",
      "metadata": {
        "id": "3ocqz2EnJSvQ"
      },
      "source": [
        "Stage 2.Model build\n",
        "\n",
        "\n",
        "We take Random Forest as a good model to start with."
      ]
    },
    {
      "cell_type": "code",
      "metadata": {
        "ExecuteTime": {
          "end_time": "2019-10-14T03:11:56.249527Z",
          "start_time": "2019-10-14T03:11:56.088701Z"
        },
        "id": "20nP-dbK3LiI",
        "outputId": "1b5d57b5-f27f-4de7-a521-c79003f2f94a",
        "colab": {
          "base_uri": "https://localhost:8080/"
        }
      },
      "source": [
        "df_data.columns"
      ],
      "execution_count": 77,
      "outputs": [
        {
          "output_type": "execute_result",
          "data": {
            "text/plain": [
              "Index(['Date', 'Time(+02:00)', 'S1', 'S2', 'S3', 'Friction', 'State', 'Ta',\n",
              "       'S7', 'Tsurf', 'S9', 'S10', 'S11', 'Water', 'Speed', 'Direction',\n",
              "       'Latitude', 'Longitude', 'Height', 'Accuracy', 'Tdew', 'Friction2',\n",
              "       'Distance', 'Serial(RCM411 V 2.59 2016-09-29 - RCM Mobile v1.1.2)',\n",
              "       'TaOBD', 'AirFlowRateOBD', 'LambdaOBD'],\n",
              "      dtype='object')"
            ]
          },
          "metadata": {
            "tags": []
          },
          "execution_count": 77
        }
      ]
    },
    {
      "cell_type": "code",
      "metadata": {
        "id": "OqQSQU25KPGp"
      },
      "source": [
        "X_features=[ 'Friction', 'Ta',\n",
        "       'S7', 'Tsurf', 'S9', 'S10', 'S11', 'Water', 'Speed', 'Direction',\n",
        "       'Latitude', 'Longitude', 'Height', 'Accuracy']"
      ],
      "execution_count": 78,
      "outputs": []
    },
    {
      "cell_type": "code",
      "metadata": {
        "id": "maYxf4s5J74m"
      },
      "source": [
        "Target=['State']\n"
      ],
      "execution_count": 79,
      "outputs": []
    },
    {
      "cell_type": "code",
      "metadata": {
        "id": "824583ctJ8hc"
      },
      "source": [
        "#divide dataset to train and test\n",
        "\n",
        "X_train, X_test, y_train, y_test=train_test_split(df_data[X_features],\n",
        "                                                  df_data[Target], shuffle = True,\n",
        "                                                test_size=0.1,random_state=RS)"
      ],
      "execution_count": 80,
      "outputs": []
    },
    {
      "cell_type": "code",
      "metadata": {
        "id": "O9GNazFb3Lkk"
      },
      "source": [
        "clf=RandomForestClassifier(n_estimators=100,\n",
        "    max_depth=5,\n",
        "    class_weight='balanced',  #classes unbalanced, so we use that param\n",
        "    verbose=1,                       \n",
        "    random_state=RS,\n",
        ")"
      ],
      "execution_count": 81,
      "outputs": []
    },
    {
      "cell_type": "code",
      "metadata": {
        "id": "WFTORQN9EiDn",
        "outputId": "42619563-8599-42d1-91d1-f9645a00d60f",
        "colab": {
          "base_uri": "https://localhost:8080/"
        }
      },
      "source": [
        "clf.fit(X_train,y_train)"
      ],
      "execution_count": 65,
      "outputs": [
        {
          "output_type": "stream",
          "text": [
            "/usr/local/lib/python3.6/dist-packages/ipykernel_launcher.py:1: DataConversionWarning: A column-vector y was passed when a 1d array was expected. Please change the shape of y to (n_samples,), for example using ravel().\n",
            "  \"\"\"Entry point for launching an IPython kernel.\n",
            "[Parallel(n_jobs=1)]: Using backend SequentialBackend with 1 concurrent workers.\n",
            "[Parallel(n_jobs=1)]: Done 100 out of 100 | elapsed:    0.1s finished\n"
          ],
          "name": "stderr"
        },
        {
          "output_type": "execute_result",
          "data": {
            "text/plain": [
              "RandomForestClassifier(bootstrap=True, ccp_alpha=0.0, class_weight='balanced',\n",
              "                       criterion='gini', max_depth=5, max_features='auto',\n",
              "                       max_leaf_nodes=None, max_samples=None,\n",
              "                       min_impurity_decrease=0.0, min_impurity_split=None,\n",
              "                       min_samples_leaf=1, min_samples_split=2,\n",
              "                       min_weight_fraction_leaf=0.0, n_estimators=100,\n",
              "                       n_jobs=None, oob_score=False, random_state=42, verbose=1,\n",
              "                       warm_start=False)"
            ]
          },
          "metadata": {
            "tags": []
          },
          "execution_count": 65
        }
      ]
    },
    {
      "cell_type": "code",
      "metadata": {
        "id": "IK9-qwXSEiEH",
        "outputId": "61bce798-3fed-4510-c4d5-bde5b49dc08e",
        "colab": {
          "base_uri": "https://localhost:8080/"
        }
      },
      "source": [
        "clf.score(X_train,y_train)"
      ],
      "execution_count": 66,
      "outputs": [
        {
          "output_type": "stream",
          "text": [
            "[Parallel(n_jobs=1)]: Using backend SequentialBackend with 1 concurrent workers.\n",
            "[Parallel(n_jobs=1)]: Done 100 out of 100 | elapsed:    0.0s finished\n"
          ],
          "name": "stderr"
        },
        {
          "output_type": "execute_result",
          "data": {
            "text/plain": [
              "0.9488888888888889"
            ]
          },
          "metadata": {
            "tags": []
          },
          "execution_count": 66
        }
      ]
    },
    {
      "cell_type": "code",
      "metadata": {
        "id": "0b-rTdtIKVq1",
        "outputId": "f7279deb-6140-4a09-f85b-a4a87934dc7b",
        "colab": {
          "base_uri": "https://localhost:8080/"
        }
      },
      "source": [
        "clf.score(X_test,y_test)"
      ],
      "execution_count": 67,
      "outputs": [
        {
          "output_type": "stream",
          "text": [
            "[Parallel(n_jobs=1)]: Using backend SequentialBackend with 1 concurrent workers.\n",
            "[Parallel(n_jobs=1)]: Done 100 out of 100 | elapsed:    0.0s finished\n"
          ],
          "name": "stderr"
        },
        {
          "output_type": "execute_result",
          "data": {
            "text/plain": [
              "0.96"
            ]
          },
          "metadata": {
            "tags": []
          },
          "execution_count": 67
        }
      ]
    },
    {
      "cell_type": "code",
      "metadata": {
        "id": "7AWokjvmEiEj"
      },
      "source": [
        "#TO DO: save model and use in Telegram Bot"
      ],
      "execution_count": null,
      "outputs": []
    },
    {
      "cell_type": "code",
      "metadata": {
        "id": "9NXkmmfPEiE7"
      },
      "source": [
        ""
      ],
      "execution_count": null,
      "outputs": []
    },
    {
      "cell_type": "code",
      "metadata": {
        "id": "JSG6BDxGEiFR"
      },
      "source": [
        ""
      ],
      "execution_count": null,
      "outputs": []
    }
  ]
}